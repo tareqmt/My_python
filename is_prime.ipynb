{
 "cells": [
  {
   "cell_type": "code",
   "execution_count": 24,
   "metadata": {},
   "outputs": [],
   "source": [
    "def is_prime(n):\n",
    "    import numpy as np\n",
    "    ''' to calculate if an input number is prime or not '''\n",
    "    if n <= 1:\n",
    "        print(n, 'is not a prime')\n",
    "    elif n == 2:\n",
    "        print(n, 'is a prime')\n",
    "    else :\n",
    "        x = list(range(3,n))\n",
    "        Y = np.mod(x, n)\n",
    "        zero_els = len(Y) - np.count_nonzero(Y)\n",
    "        if zero_els > 0:\n",
    "             print(n, 'is a not prime')\n",
    "        else:\n",
    "            print(n, 'is a prime')\n",
    "        \n"
   ]
  }
 ],
 "metadata": {
  "kernelspec": {
   "display_name": "Python 3",
   "language": "python",
   "name": "python3"
  },
  "language_info": {
   "codemirror_mode": {
    "name": "ipython",
    "version": 3
   },
   "file_extension": ".py",
   "mimetype": "text/x-python",
   "name": "python",
   "nbconvert_exporter": "python",
   "pygments_lexer": "ipython3",
   "version": "3.8.3"
  }
 },
 "nbformat": 4,
 "nbformat_minor": 4
}
